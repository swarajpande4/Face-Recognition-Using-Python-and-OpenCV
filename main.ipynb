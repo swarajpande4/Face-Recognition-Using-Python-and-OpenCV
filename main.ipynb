{
 "cells": [
  {
   "cell_type": "code",
   "execution_count": 7,
   "metadata": {},
   "outputs": [
    {
     "name": "stdout",
     "output_type": "stream",
     "text": [
      "Number of Faces: 12\n"
     ]
    }
   ],
   "source": [
    "# Importing libraries\n",
    "import cv2\n",
    "import os\n",
    "\n",
    "# Loading Image Path\n",
    "imagePath = os.path.abspath(\"img/1.png\")\n",
    "\n",
    "#Loading Haar Cascade (xml) Path\n",
    "cascPath = os.path.abspath(\"venv/lib/python3.7/site-packages/cv2/data/haarcascade_frontalface_default.xml\")\n",
    "\n",
    "# Activating Haar Cascade (Face) Classifier\n",
    "faceCascade = cv2.CascadeClassifier(cascPath)\n",
    "\n",
    "# Reading the Image (Creating Object)\n",
    "img = cv2.imread(imagePath)\n",
    "\n",
    "# Creating a Grayscale image\n",
    "grayImg = cv2.cvtColor(img, cv2.COLOR_BGR2GRAY)\n",
    "\n",
    "# Detecting faces in the grayscale image\n",
    "faces = faceCascade.detectMultiScale(grayImg, 1.2, 5)\n",
    "\n",
    "print(f\"Number of Faces: {len(faces)}\")\n",
    "\n",
    "# Drawing a Red Rectangle around the faces\n",
    "for (x, y, w, h) in faces:\n",
    "    cv2.rectangle(img, (x, y), (x+w, y+h), (0,0,255), 2)\n",
    "\n",
    "# Displaying the image and waiting for a key to exit\n",
    "cv2.imshow(\"FACES\", img)\n",
    "cv2.waitKey()\n",
    "cv2.destroyAllWindows()"
   ]
  },
  {
   "cell_type": "code",
   "execution_count": null,
   "metadata": {},
   "outputs": [],
   "source": []
  }
 ],
 "metadata": {
  "kernelspec": {
   "display_name": "Python 3",
   "language": "python",
   "name": "python3"
  },
  "language_info": {
   "codemirror_mode": {
    "name": "ipython",
    "version": 3
   },
   "file_extension": ".py",
   "mimetype": "text/x-python",
   "name": "python",
   "nbconvert_exporter": "python",
   "pygments_lexer": "ipython3",
   "version": "3.7.7"
  }
 },
 "nbformat": 4,
 "nbformat_minor": 4
}
